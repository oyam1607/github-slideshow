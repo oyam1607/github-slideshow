{
  "nbformat": 4,
  "nbformat_minor": 0,
  "metadata": {
    "kernelspec": {
      "display_name": "Python 3",
      "language": "python",
      "name": "python3"
    },
    "language_info": {
      "codemirror_mode": {
        "name": "ipython",
        "version": 3
      },
      "file_extension": ".py",
      "mimetype": "text/x-python",
      "name": "python",
      "nbconvert_exporter": "python",
      "pygments_lexer": "ipython3",
      "version": "3.8.3"
    },
    "colab": {
      "name": "Copia de Ejercicios_IIEVFC.ipynb",
      "provenance": [],
      "include_colab_link": true
    }
  },
  "cells": [
    {
      "cell_type": "markdown",
      "metadata": {
        "id": "view-in-github",
        "colab_type": "text"
      },
      "source": [
        "<a href=\"https://colab.research.google.com/github/oyam1607/github-slideshow/blob/master/Copia_de_Ejercicios_IIEVFC.ipynb\" target=\"_parent\"><img src=\"https://colab.research.google.com/assets/colab-badge.svg\" alt=\"Open In Colab\"/></a>"
      ]
    },
    {
      "cell_type": "markdown",
      "metadata": {
        "_uuid": "1752ce061957fd1ce93d2e4db9494b7b29da7935",
        "id": "4skdndoa-7GI"
      },
      "source": [
        "<center>\n",
        "\n",
        "\n",
        "<img src=\"https://habrastorage.org/webt/jq/gc/r5/jqgcr5azmatev6zvgufn8xftehy.png\">\n",
        "    \n",
        "#  **II Escuela de Verano en Física Computacional**\n",
        "\n",
        "Este material está sujeto a los términos y condiciones de la licencia [Creative Commons CC BY-NC-SA 4.0](https://creativecommons.org/licenses/by-nc-sa/4.0/). Se permite el uso gratuito para cualquier propósito no comercial.\n",
        "\n",
        "*También puede consultar la última versión de este notebook en nuestro [repositorio](https://github.com/PCPUNMSM) y los videos de clase [en nuestro canal de Youtube](https://www.youtube.com/channel/UCze8vzQLcplutz0nWDNjFCA).*\n",
        "    "
      ]
    },
    {
      "cell_type": "markdown",
      "metadata": {
        "_uuid": "9b690f2c8129ad9445c544337375b93246c26668",
        "id": "Vm9O4SUd-7GJ"
      },
      "source": [
        "# <center> Lista de Ejercicios\n",
        "\n"
      ]
    },
    {
      "cell_type": "markdown",
      "metadata": {
        "id": "8c9en3VuOmmu"
      },
      "source": [
        "\n",
        "### Problema 1:  Raíces de ecuaciones\n",
        "\n"
      ]
    },
    {
      "cell_type": "markdown",
      "metadata": {
        "id": "_SXtYxOtOmmu"
      },
      "source": [
        "La siguiente fórmula nos describe la velocidad ascendente v de un cohete:\n",
        "\n",
        "$$v(t)=u\\ln\\left(\\frac{m}{m-qt}\\right)-gt$$\n",
        "\n",
        "Donde:\n",
        "\n",
        "* u = módulo de la velocidad del combustible expulsado en relación con el cohete\n",
        "\n",
        "* m = masa inicial del cohete (en t=0)\n",
        "\n",
        "* g = módulo aceleración de la gravedad\n",
        "\n",
        "* t = tiempo\n"
      ]
    },
    {
      "cell_type": "markdown",
      "metadata": {
        "id": "uXLZje3vOmmv"
      },
      "source": [
        "Dado:\n",
        "\n",
        "$$u= 950m/s,\\quad m=2x10^5 kg, \\quad q=3x10^3 kg/s, \\quad g=9.8m/s^2, \\quad t \\in [10,25]$$"
      ]
    },
    {
      "cell_type": "markdown",
      "metadata": {
        "id": "kZtj6q2fOmmv"
      },
      "source": [
        "a) Defina y utilice 3 métodos para hallar el tiempo que tarda el cohete en alcanzar la velocidad de 500 m/s.\n",
        "\n",
        "b) Resuelva analíticamente y compare resultados con los 3 métodos utilizados.\n",
        "\n",
        "c) Elabore gráficas y detalle su análisis."
      ]
    },
    {
      "cell_type": "code",
      "metadata": {
        "id": "RgHjhJJrOmmv"
      },
      "source": [
        "## Introduce tu respuesta aquí\n",
        "def v_cohete(v0,m0,q,t):\n",
        "    g= 9.8 #m/s^2\n",
        "    return(v0*np.log(m0/(m0-q*t))-g*t)"
      ],
      "execution_count": 8,
      "outputs": []
    },
    {
      "cell_type": "code",
      "metadata": {
        "id": "2SGxFI1onfU4"
      },
      "source": [
        "import numpy as np"
      ],
      "execution_count": 3,
      "outputs": []
    },
    {
      "cell_type": "code",
      "metadata": {
        "colab": {
          "base_uri": "https://localhost:8080/"
        },
        "id": "7teVExBwn8VE",
        "outputId": "cab2bc12-a392-48bd-fcd5-e3dc8782541c"
      },
      "source": [
        "\n",
        "t= np.linspace(10,50,40)\n",
        "t"
      ],
      "execution_count": 12,
      "outputs": [
        {
          "output_type": "execute_result",
          "data": {
            "text/plain": [
              "array([10.        , 11.02564103, 12.05128205, 13.07692308, 14.1025641 ,\n",
              "       15.12820513, 16.15384615, 17.17948718, 18.20512821, 19.23076923,\n",
              "       20.25641026, 21.28205128, 22.30769231, 23.33333333, 24.35897436,\n",
              "       25.38461538, 26.41025641, 27.43589744, 28.46153846, 29.48717949,\n",
              "       30.51282051, 31.53846154, 32.56410256, 33.58974359, 34.61538462,\n",
              "       35.64102564, 36.66666667, 37.69230769, 38.71794872, 39.74358974,\n",
              "       40.76923077, 41.79487179, 42.82051282, 43.84615385, 44.87179487,\n",
              "       45.8974359 , 46.92307692, 47.94871795, 48.97435897, 50.        ])"
            ]
          },
          "metadata": {
            "tags": []
          },
          "execution_count": 12
        }
      ]
    },
    {
      "cell_type": "code",
      "metadata": {
        "colab": {
          "base_uri": "https://localhost:8080/"
        },
        "id": "tcMvMba4oShG",
        "outputId": "ffade223-a5a0-42d6-c6a6-6232cd851eb3"
      },
      "source": [
        "v_cohete(950,2e5,3e3,t)"
      ],
      "execution_count": 9,
      "outputs": [
        {
          "output_type": "execute_result",
          "data": {
            "text/plain": [
              "array([ 56.39298302,  61.98449672,  67.76566926,  73.74197625,\n",
              "        79.91913389,  86.30311328,  92.90015584,  99.71678985,\n",
              "       106.75984827, 114.03648808, 121.55421103, 129.32088616,\n",
              "       137.3447742 , 145.63455398, 154.19935115, 163.04876934,\n",
              "       172.19292423, 181.64248049, 191.40869234, 201.50344778])"
            ]
          },
          "metadata": {
            "tags": []
          },
          "execution_count": 9
        }
      ]
    },
    {
      "cell_type": "code",
      "metadata": {
        "id": "24qsFUY3oint"
      },
      "source": [
        "import matplotlib.pyplot as plt"
      ],
      "execution_count": 10,
      "outputs": []
    },
    {
      "cell_type": "code",
      "metadata": {
        "colab": {
          "base_uri": "https://localhost:8080/",
          "height": 296
        },
        "id": "JuO4qKcZoo34",
        "outputId": "b792a030-d4c7-4627-f6a7-d29bd4d4b050"
      },
      "source": [
        "plt.plot(t,v_cohete(950,2e5,3e3,t))\n",
        "plt.ylabel('y(m)')\n",
        "plt.xlabel('t(s)')"
      ],
      "execution_count": 13,
      "outputs": [
        {
          "output_type": "execute_result",
          "data": {
            "text/plain": [
              "Text(0.5, 0, 't(s)')"
            ]
          },
          "metadata": {
            "tags": []
          },
          "execution_count": 13
        },
        {
          "output_type": "display_data",
          "data": {
            "image/png": "[encoded data removed]",
            "text/plain": [
              "<Figure size 432x288 with 1 Axes>"
            ]
          },
          "metadata": {
            "tags": [],
            "needs_background": "light"
          }
        }
      ]
    },
    {
      "cell_type": "markdown",
      "metadata": {
        "id": "B5oZylATOmmw"
      },
      "source": [
        "### Problema 2: Interpolación"
      ]
    },
    {
      "cell_type": "markdown",
      "metadata": {
        "id": "9DnOghRsOmmw"
      },
      "source": [
        "Dadas las funciones:\n",
        "\n",
        "1. $f (x) = sin(x^2) $\n",
        "\n",
        "2. $f (x) = e^{sin (x)}$\n",
        "\n",
        "3. $f (x) = \\frac{0.2}{(x-3.2)^2 + 0.04}$\n",
        "\n",
        "a) Estudiar el error en dos métodos de interpolación (de su elección) con 10,20 y 50 datos (uniformemente distribuidos) en el intervalo [0.0, 5.0] y compare los resultados.\n",
        "\n",
        "b) Hallar los órdenes de convergencia, elabore su gráfico con el eje x en base 2 y detallar su análisis.\n",
        "\n",
        "c) Añade una perturbación sinusoidal ($\\delta g(x)=sin(x)$) del orden de $10^{-4},10^{-5}, 10^{-6}$ con distribución homogénea, grafice y detalle su análisis, ¿cuál es el error que generan con respecto a aproximación hecha en \"2.a)\"?"
      ]
    },
    {
      "cell_type": "code",
      "metadata": {
        "id": "VIAJguU-Ommx"
      },
      "source": [
        "## Introduce tu respuesta aquí"
      ],
      "execution_count": null,
      "outputs": []
    },
    {
      "cell_type": "markdown",
      "metadata": {
        "id": "CPiet4s9Ommx"
      },
      "source": [
        "### Problema 3: Derivación numérica"
      ]
    },
    {
      "cell_type": "markdown",
      "metadata": {
        "id": "0XsAD08oOmmy"
      },
      "source": [
        "En 1928, George Gamow propuso una teoría muy exitosa del decaímiento $\\alpha$, según la cual la partícula $α$ se mueve libremente dentro del núcleo y se emite después de atravesar la barrera potencial entre ella y el núcleo hijo. En otras palabras, la partícula $α$, de carga $Z_2$, cuya energía es $E$, está atrapada en un pozo potencial de radio R por la barrera potencial:\n",
        "\n",
        "$$V(r)=\\frac{Z_1Z_2e^2}{4\\pi\\epsilon_0 r}$$\n",
        "\n",
        "para $r>R$.\n",
        "\n",
        "$Z_1 =Z-2, \\quad Z_2=2$, donde Z es la carga del núcleo de radio R.\n",
        "\n",
        "$r$: es el radio fuera del núcleo ($r>R$ y con A, número de masa) donde:\n",
        "\n",
        "$$R = 1.5\\times 10^{-15}\\,A^{1/3}\\,{\\rm m}=2.0\\times 10^{-15}\\,Z_1^{\\,1/3}\\,{\\rm m}$$"
      ]
    },
    {
      "cell_type": "markdown",
      "metadata": {
        "id": "yLRW88_oOmmy"
      },
      "source": [
        "a) Calcule la fuerza que experimenta la partícula y analice $\\alpha$ para $r\\in [R,3R]$, utilizando los tres esquemas de diferencias finitas.\n",
        "\n",
        "b) Comparar los esquemas con la solución analítica, calcular los errores, órdenes de convergencia y detallar su análisis."
      ]
    },
    {
      "cell_type": "code",
      "metadata": {
        "id": "g4rSazy2Ommy"
      },
      "source": [
        "# Introduce tu respuesta aquí"
      ],
      "execution_count": null,
      "outputs": []
    },
    {
      "cell_type": "markdown",
      "metadata": {
        "id": "ZSeLKbwTOmmz"
      },
      "source": [
        "### Problema 4: Integración numérica"
      ]
    },
    {
      "cell_type": "markdown",
      "metadata": {
        "id": "a5xZrZd5Ommz"
      },
      "source": [
        "La carga a partir de la densidad radial de carga lineal, $\\lambda$, sobre el área de la sección transversal del cilindro, está definida por:\n",
        "\n",
        "$$q_{total}=\\int_A \\lambda(r)dA(r)$$\n",
        "\n",
        "donde, dA es el diferencial de área de la base del cilindro:\n",
        "\n",
        "$$q_{total}=\\int_A \\lambda(r)(2\\pi r dr)$$\n",
        "\n",
        "Sabemos que la densidad tiene la forma:\n",
        "\n",
        "$$\\lambda(r)=\\lambda_0 \\left(1-\\frac{r^2}{a^2} \\right)$$\n",
        "\n",
        "Y el campo eléctrico:\n",
        "\n",
        "$$\\vec{E}=\\frac{kq_{total}}{d^2}\\hat r$$\n",
        "\n",
        "d: distancia de la superficie al espacio a evaluar el campo eléctrico. ($d\\gt r$)\n",
        "\n",
        "\n",
        "a) Determina la distribución de la carga y campo eléctrico (a distancias $d= r/4,r/2, r$ ) en función al radio utilizando 3 métodos de integración.\n",
        "\n",
        "b) Obtener la solución analítica, comparar los errores de distintos métodos y detallar análisis.\n",
        "\n"
      ]
    },
    {
      "cell_type": "code",
      "metadata": {
        "id": "ov3gBG-bOmmz"
      },
      "source": [
        "# Introduce tu respuesta aquí"
      ],
      "execution_count": null,
      "outputs": []
    },
    {
      "cell_type": "markdown",
      "metadata": {
        "id": "lLzG05ZVOmmz"
      },
      "source": [
        "### Problema 5:"
      ]
    },
    {
      "cell_type": "markdown",
      "metadata": {
        "id": "nv5Tao_AOmm0"
      },
      "source": [
        "Considerar un aro horizontal sin rozamiento de radio R. En este aro enhebro tres objetos con masas idénticas m, y, entre los objetos, tres muelles idénticos, cada uno con una masa constante de fuerza k."
      ]
    },
    {
      "cell_type": "markdown",
      "metadata": {
        "id": "f8OO4YhlOmm0"
      },
      "source": [
        "<p align=\"center\">\n",
        "  <img src=\"https://habrastorage.org/webt/nz/qz/g4/nzqzg42gjarvpx3yk-fy0qgn20k.png\"  width=55% />\n",
        "</p>\n",
        "\n"
      ]
    },
    {
      "cell_type": "markdown",
      "metadata": {
        "id": "VtlNTfl3Omm0"
      },
      "source": [
        "Sabemos que, la energía cinética es:\n",
        "\n",
        "$$T=\\frac{1}{2}mR^2(\\dot{\\phi_1^2}+\\dot{\\phi_2^2}+\\dot{\\phi_3^2})$$\n",
        "\n",
        "y la energía potencial:\n",
        "\n",
        "$$U=\\frac{1}{2}kR^2 [(\\phi_1-\\phi_2)^2+(\\phi_2-\\phi_3)^2+(\\phi_3-\\phi_1)^2]$$"
      ]
    },
    {
      "cell_type": "markdown",
      "metadata": {
        "id": "NrIEZnEIOmm0"
      },
      "source": [
        "Resultado: Sistema de EDOs \n",
        "\n",
        "$$m\\frac{d^2\\phi_1}{dt^2}=-k(\\phi_1-\\phi_2)-k(\\phi_1-\\phi_3)$$\n",
        "\n",
        "$$m\\frac{d^2\\phi_2}{dt^2}=-k(\\phi_2-\\phi_3)-k(\\phi_2-\\phi_1)$$\n",
        "\n",
        "$$m\\frac{d^2\\phi_3}{dt^2}=-k(\\phi_3-\\phi_1)-k(\\phi_3-\\phi_2)$$\n"
      ]
    },
    {
      "cell_type": "markdown",
      "metadata": {
        "id": "59ruLNuoOmm1"
      },
      "source": [
        "a) Encontrar las ecuaciones de movimiento para cada masa usando las ecuaciones de Euler-Lagrange. *(ejemplo en PCP_sesión5.ipynb)*\n",
        "\n",
        "b) Resolver numéricamente el sistema de ecuaciones con los métodos de Euler y RK de orden 4. Para los datos: $\\phi_1=\\phi_2/2,\\quad \\phi_2=\\phi_3/2,\\quad \\phi_3=\\pi/10 \\quad $ y $\\quad \\phi_1'=1,\\quad \\phi_2'=1,\\quad \\phi_3'=1, \\quad R=m=k=1$\n",
        "\n",
        "c) Mostrar los resultados y explicar la dinámica del sistema en base al resultado de la simulación."
      ]
    },
    {
      "cell_type": "code",
      "metadata": {
        "id": "hKbNsZRpOmm1"
      },
      "source": [
        "# Introduce tu respuesta aquí"
      ],
      "execution_count": null,
      "outputs": []
    },
    {
      "cell_type": "markdown",
      "metadata": {
        "id": "RA2FtkarOmm1"
      },
      "source": [
        "Problema 6: (Opcional)\n",
        "\n",
        "De las sesiones brindadas, su propia experiencia y preferencias: Definir un problema a resolver con el enfoque numérico, explique a detalle cada consideración que realice y explique sus conclusiones. \n",
        "\n",
        "El problema puede ser la implementación de un modelo estándar discutido en libros de física (i.e. obtener el gráfico típico de estructura de ionización del átomo de Hidrógeno.), proyecto que esté desarrollando en su formación o complementar cálculos de las sesiones."
      ]
    },
    {
      "cell_type": "code",
      "metadata": {
        "id": "C3YysC_JOmm1"
      },
      "source": [
        "# Introduce tu respuesta aquí"
      ],
      "execution_count": null,
      "outputs": []
    },
    {
      "cell_type": "markdown",
      "metadata": {
        "id": "CMbTnQJKOmm2"
      },
      "source": [
        "**Por último, debe de rellenar la siguiente encuesta de satisfacción:** https://forms.gle/4WU3ovvP7gJMj8GA7 (ingresar con el correo que se inscribió)."
      ]
    },
    {
      "cell_type": "markdown",
      "metadata": {
        "id": "LmD7y2aCOmm2"
      },
      "source": [
        "Enviar sus respuestas a nuestro correo: pythonclubforphysicists@gmail.com\n",
        "\n",
        "**OJO: El correo debe de tener como asunto:**\n",
        "**\"Ejercicios_IIEVFC\"**\n",
        "\n",
        "*Caso contrario su solución puede quedar sin evaluar debido a la gran cantidad de correos.*"
      ]
    },
    {
      "cell_type": "markdown",
      "metadata": {
        "id": "6ucKfX5Q-7Ga"
      },
      "source": [
        "\n",
        "## Donaciones\n",
        "<br>\n",
        "<center>\n",
        "Puedes donar una vez en el siguiente enlace (Ko-Fi):\n",
        "\n",
        "<br>\n",
        "    \n",
        "*Click en la imagen.*\n",
        "\n",
        "<a href=\"https://ko-fi.com/rcrdphysics\">\n",
        "<img src=\"https://habrastorage.org/webt/8r/ml/xf/8rmlxfpdzukegpxa62cxlfvgkqe.png\" width=20% />\n",
        "\n",
        "</center>"
      ]
    }
  ]
}